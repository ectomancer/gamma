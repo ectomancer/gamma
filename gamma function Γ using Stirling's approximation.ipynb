{
 "cells": [
  {
   "cell_type": "code",
   "execution_count": 2,
   "metadata": {},
   "outputs": [
    {
     "data": {
      "text/html": [
       "<a href=\"https://en.wikipedia.org/wiki/Stirling%27s_approximation#Stirling's_formula_for_the_gamma_function\"target=\"_blank\">https://en.wikipedia.org/wiki/Stirling's_approximation#Stirling's_formula_for_the_gamma_function</a>\n"
      ],
      "text/plain": [
       "<IPython.core.display.HTML object>"
      ]
     },
     "metadata": {},
     "output_type": "display_data"
    }
   ],
   "source": [
    "%%html\n",
    "<a href=\"https://en.wikipedia.org/wiki/Stirling%27s_approximation#Stirling's_formula_for_the_gamma_function\"target=\"_blank\">https://en.wikipedia.org/wiki/Stirling's_approximation#Stirling's_formula_for_the_gamma_function</a>"
   ]
  },
  {
   "cell_type": "markdown",
   "metadata": {},
   "source": [
    "$$\\ln\\Gamma \\,z = z\\ln z - z + \\tfrac12\\ln\\frac{2\\pi}{z} + \\int_0^\\infty\\frac{2\\arctan\\,\\frac{t}{z}}{e^{2\\pi t}-1}\\,{\\rm d}t$$\n",
    "<p>Repeated integration by parts gives:</p>\n",
    "$$\\ln\\Gamma\\,z \\sim z\\ln z - z + \\tfrac12\\ln\\frac{2\\pi}{z} + \\sum_{n=1}^{N-1} \\frac{B_{2n}}{2n(2n-1)z^{2n-1}}$$\n",
    "<hr>\n",
    "<p>Simplified for calculators:</p>\n",
    "$$\\Gamma(z) \\sim \\sqrt{\\frac{2 \\pi}{z}} \\left(\\frac{z}{e} \\sqrt{z \\sinh\\frac{1}{z} + \\frac{1}{810z^6} } \\right)^z$$"
   ]
  },
  {
   "cell_type": "code",
   "execution_count": 13,
   "metadata": {},
   "outputs": [
    {
     "name": "stdout",
     "output_type": "stream",
     "text": [
      "3.085661179990085\n",
      "3.1415926535897927\n"
     ]
    }
   ],
   "source": [
    "import math\n",
    "\n",
    "def bernoc(n):\n",
    "    '''Calculate Bernoulli number on demand\n",
    "    FORTRAN 77 subroutine Copyright Shanjie Zhang and Jianming Jin\n",
    "    Ported from Fortran 90 subroutine bernob in scipy specfun.f\n",
    "    See LICENSE'''\n",
    "    TPI = 6.283185307179586\n",
    "    bn_list = [1.0, -0.5, 1.0 / 6.0]\n",
    "    if n < 3:\n",
    "        return bn_list[n]\n",
    "    if n % 2 == 1:\n",
    "        return 0.0 #for odd Bernoulli numbers >1\n",
    "    r1 = (2.0 / TPI) ** 2\n",
    "    for m in range(4, n + 1, 2):\n",
    "        r1 = -r1 * (m - 1) * m / (TPI * TPI)\n",
    "    r2 = 1.0\n",
    "    for k in range(2, 10_000):\n",
    "        s = (1.0 / k) ** n\n",
    "        r2 += s\n",
    "        if s < 1.0E-15: \n",
    "            return r1 * r2\n",
    "\n",
    "def gamma(z):\n",
    "    '''gamma function Γz\n",
    "    Stirling's approximation published in 1733.'''\n",
    "    sum = 0 #empty sum\n",
    "    for term in range(1, 10_000):\n",
    "        partial_sum = bernoc(2 * term) / (2 * term * (2 * term - 1) * z ** (2 * term - 1))\n",
    "        sum += partial_sum\n",
    "        if partial_sum < 1.0E-15:\n",
    "            break\n",
    "    return math.exp(z * math.log(z) - z + math.log(2 * math.pi / z) / 2 + sum)\n",
    "rootΓ = gamma(0.5)\n",
    "print(rootΓ * rootΓ)\n",
    "print(math.gamma(0.5) ** 2)"
   ]
  },
  {
   "cell_type": "code",
   "execution_count": null,
   "metadata": {},
   "outputs": [],
   "source": [
    "LICENSE\n",
    "Copyright (c) 2001, 2002 Enthought, Inc.\n",
    "All rights reserved.\n",
    "\n",
    "Copyright (c) 2003-2019 SciPy Developers.\n",
    "All rights reserved.\n",
    "\n",
    "Redistribution and use in source and binary forms, with or without\n",
    "modification, are permitted provided that the following conditions are met:\n",
    "\n",
    "  a. Redistributions of source code must retain the above copyright notice,\n",
    "     this list of conditions and the following disclaimer.\n",
    "  b. Redistributions in binary form must reproduce the above copyright\n",
    "     notice, this list of conditions and the following disclaimer in the\n",
    "     documentation and/or other materials provided with the distribution.\n",
    "  c. Neither the name of Enthought nor the names of the SciPy Developers\n",
    "     may be used to endorse or promote products derived from this software\n",
    "     without specific prior written permission.\n",
    "\n",
    "\n",
    "THIS SOFTWARE IS PROVIDED BY THE COPYRIGHT HOLDERS AND CONTRIBUTORS \"AS IS\"\n",
    "AND ANY EXPRESS OR IMPLIED WARRANTIES, INCLUDING, BUT NOT LIMITED TO, THE\n",
    "IMPLIED WARRANTIES OF MERCHANTABILITY AND FITNESS FOR A PARTICULAR PURPOSE\n",
    "ARE DISCLAIMED. IN NO EVENT SHALL THE COPYRIGHT HOLDERS OR CONTRIBUTORS\n",
    "BE LIABLE FOR ANY DIRECT, INDIRECT, INCIDENTAL, SPECIAL, EXEMPLARY,\n",
    "OR CONSEQUENTIAL DAMAGES (INCLUDING, BUT NOT LIMITED TO, PROCUREMENT OF\n",
    "SUBSTITUTE GOODS OR SERVICES; LOSS OF USE, DATA, OR PROFITS; OR BUSINESS\n",
    "INTERRUPTION) HOWEVER CAUSED AND ON ANY THEORY OF LIABILITY, WHETHER IN\n",
    "CONTRACT, STRICT LIABILITY, OR TORT (INCLUDING NEGLIGENCE OR OTHERWISE)\n",
    "ARISING IN ANY WAY OUT OF THE USE OF THIS SOFTWARE, EVEN IF ADVISED OF\n",
    "THE POSSIBILITY OF SUCH DAMAGE."
   ]
  },
  {
   "cell_type": "code",
   "execution_count": 10,
   "metadata": {},
   "outputs": [
    {
     "name": "stdout",
     "output_type": "stream",
     "text": [
      "4.374295224967394\n"
     ]
    }
   ],
   "source": [
    "def gamma(z):\n",
    "    '''gamma function Γz\n",
    "    simplified Stirling's approximation published in 1733.'''\n",
    "    import math\n",
    "    return (2 * math.pi / z) ** 0.5 * (z / math.e * (z * math.sinh(1 / z) + 1 / 810 * z ** -6)) ** z\n",
    "rootΓ = gamma(0.5)\n",
    "print(rootΓ * rootΓ)"
   ]
  }
 ],
 "metadata": {
  "kernelspec": {
   "display_name": "Python 3",
   "language": "python",
   "name": "python3"
  },
  "language_info": {
   "codemirror_mode": {
    "name": "ipython",
    "version": 3
   },
   "file_extension": ".py",
   "mimetype": "text/x-python",
   "name": "python",
   "nbconvert_exporter": "python",
   "pygments_lexer": "ipython3",
   "version": "3.7.0"
  }
 },
 "nbformat": 4,
 "nbformat_minor": 2
}
